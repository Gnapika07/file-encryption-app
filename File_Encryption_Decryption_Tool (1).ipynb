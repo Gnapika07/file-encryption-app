{
  "cells": [
    {
      "cell_type": "code",
      "execution_count": 1,
      "metadata": {
        "colab": {
          "base_uri": "https://localhost:8080/"
        },
        "id": "A9eDNPubpQsM",
        "outputId": "534815c9-9b84-4dd1-c9d3-6817e10ce968"
      },
      "outputs": [
        {
          "output_type": "stream",
          "name": "stdout",
          "text": [
            "Requirement already satisfied: cryptography in /usr/local/lib/python3.11/dist-packages (43.0.3)\n",
            "Requirement already satisfied: cffi>=1.12 in /usr/local/lib/python3.11/dist-packages (from cryptography) (1.17.1)\n",
            "Requirement already satisfied: pycparser in /usr/local/lib/python3.11/dist-packages (from cffi>=1.12->cryptography) (2.22)\n"
          ]
        }
      ],
      "source": [
        "#  Install cryptography\n",
        "!pip install cryptography"
      ]
    },
    {
      "cell_type": "code",
      "execution_count": 2,
      "metadata": {
        "id": "nNfDH0e3pQsO"
      },
      "outputs": [],
      "source": [
        "#  Import required libraries\n",
        "from cryptography.fernet import Fernet\n",
        "import base64"
      ]
    },
    {
      "cell_type": "code",
      "execution_count": 3,
      "metadata": {
        "colab": {
          "base_uri": "https://localhost:8080/"
        },
        "id": "8tYze936pQsP",
        "outputId": "1d1ee2d9-bbfd-4199-95d6-4416f28a6393"
      },
      "outputs": [
        {
          "output_type": "stream",
          "name": "stdout",
          "text": [
            "Key generated and saved as 'secret.key'\n"
          ]
        }
      ],
      "source": [
        "#  Generate and save a key\n",
        "def generate_key():\n",
        "    key = Fernet.generate_key()\n",
        "    with open(\"secret.key\", \"wb\") as key_file:\n",
        "        key_file.write(key)\n",
        "    return key\n",
        "\n",
        "key = generate_key()\n",
        "print(\"Key generated and saved as 'secret.key'\")"
      ]
    },
    {
      "cell_type": "code",
      "execution_count": 4,
      "metadata": {
        "id": "JV4NZsmhpQsQ"
      },
      "outputs": [],
      "source": [
        "#  Load the key from file\n",
        "def load_key():\n",
        "    return open(\"secret.key\", \"rb\").read()\n",
        "\n",
        "key = load_key()"
      ]
    },
    {
      "cell_type": "code",
      "execution_count": 5,
      "metadata": {
        "id": "JUrOGmYvpQsQ"
      },
      "outputs": [],
      "source": [
        "#  Encrypt a file\n",
        "def encrypt_file(file_path):\n",
        "    with open(file_path, \"rb\") as file:\n",
        "        data = file.read()\n",
        "    f = Fernet(key)\n",
        "    encrypted = f.encrypt(data)\n",
        "    with open(\"encrypted_\" + file_path, \"wb\") as file:\n",
        "        file.write(encrypted)\n",
        "    print(\"File encrypted successfully!\")"
      ]
    },
    {
      "cell_type": "code",
      "execution_count": 6,
      "metadata": {
        "id": "_uORojAcpQsR"
      },
      "outputs": [],
      "source": [
        "#  Decrypt a file\n",
        "def decrypt_file(encrypted_path):\n",
        "    with open(encrypted_path, \"rb\") as file:\n",
        "        encrypted_data = file.read()\n",
        "    f = Fernet(key)\n",
        "    decrypted = f.decrypt(encrypted_data)\n",
        "    with open(\"decrypted_\" + encrypted_path.replace(\"encrypted_\", \"\"), \"wb\") as file:\n",
        "        file.write(decrypted)\n",
        "    print(\"File decrypted successfully!\")"
      ]
    },
    {
      "cell_type": "code",
      "source": [
        "from google.colab import files\n",
        "uploaded = files.upload()\n"
      ],
      "metadata": {
        "colab": {
          "base_uri": "https://localhost:8080/",
          "height": 73
        },
        "id": "IuY1gbivpgCt",
        "outputId": "f3831387-e8aa-4145-e741-80ff4be38b42"
      },
      "execution_count": 7,
      "outputs": [
        {
          "output_type": "display_data",
          "data": {
            "text/plain": [
              "<IPython.core.display.HTML object>"
            ],
            "text/html": [
              "\n",
              "     <input type=\"file\" id=\"files-2ee360e3-f2dc-455b-9c7b-3e22bb0b6a1f\" name=\"files[]\" multiple disabled\n",
              "        style=\"border:none\" />\n",
              "     <output id=\"result-2ee360e3-f2dc-455b-9c7b-3e22bb0b6a1f\">\n",
              "      Upload widget is only available when the cell has been executed in the\n",
              "      current browser session. Please rerun this cell to enable.\n",
              "      </output>\n",
              "      <script>// Copyright 2017 Google LLC\n",
              "//\n",
              "// Licensed under the Apache License, Version 2.0 (the \"License\");\n",
              "// you may not use this file except in compliance with the License.\n",
              "// You may obtain a copy of the License at\n",
              "//\n",
              "//      http://www.apache.org/licenses/LICENSE-2.0\n",
              "//\n",
              "// Unless required by applicable law or agreed to in writing, software\n",
              "// distributed under the License is distributed on an \"AS IS\" BASIS,\n",
              "// WITHOUT WARRANTIES OR CONDITIONS OF ANY KIND, either express or implied.\n",
              "// See the License for the specific language governing permissions and\n",
              "// limitations under the License.\n",
              "\n",
              "/**\n",
              " * @fileoverview Helpers for google.colab Python module.\n",
              " */\n",
              "(function(scope) {\n",
              "function span(text, styleAttributes = {}) {\n",
              "  const element = document.createElement('span');\n",
              "  element.textContent = text;\n",
              "  for (const key of Object.keys(styleAttributes)) {\n",
              "    element.style[key] = styleAttributes[key];\n",
              "  }\n",
              "  return element;\n",
              "}\n",
              "\n",
              "// Max number of bytes which will be uploaded at a time.\n",
              "const MAX_PAYLOAD_SIZE = 100 * 1024;\n",
              "\n",
              "function _uploadFiles(inputId, outputId) {\n",
              "  const steps = uploadFilesStep(inputId, outputId);\n",
              "  const outputElement = document.getElementById(outputId);\n",
              "  // Cache steps on the outputElement to make it available for the next call\n",
              "  // to uploadFilesContinue from Python.\n",
              "  outputElement.steps = steps;\n",
              "\n",
              "  return _uploadFilesContinue(outputId);\n",
              "}\n",
              "\n",
              "// This is roughly an async generator (not supported in the browser yet),\n",
              "// where there are multiple asynchronous steps and the Python side is going\n",
              "// to poll for completion of each step.\n",
              "// This uses a Promise to block the python side on completion of each step,\n",
              "// then passes the result of the previous step as the input to the next step.\n",
              "function _uploadFilesContinue(outputId) {\n",
              "  const outputElement = document.getElementById(outputId);\n",
              "  const steps = outputElement.steps;\n",
              "\n",
              "  const next = steps.next(outputElement.lastPromiseValue);\n",
              "  return Promise.resolve(next.value.promise).then((value) => {\n",
              "    // Cache the last promise value to make it available to the next\n",
              "    // step of the generator.\n",
              "    outputElement.lastPromiseValue = value;\n",
              "    return next.value.response;\n",
              "  });\n",
              "}\n",
              "\n",
              "/**\n",
              " * Generator function which is called between each async step of the upload\n",
              " * process.\n",
              " * @param {string} inputId Element ID of the input file picker element.\n",
              " * @param {string} outputId Element ID of the output display.\n",
              " * @return {!Iterable<!Object>} Iterable of next steps.\n",
              " */\n",
              "function* uploadFilesStep(inputId, outputId) {\n",
              "  const inputElement = document.getElementById(inputId);\n",
              "  inputElement.disabled = false;\n",
              "\n",
              "  const outputElement = document.getElementById(outputId);\n",
              "  outputElement.innerHTML = '';\n",
              "\n",
              "  const pickedPromise = new Promise((resolve) => {\n",
              "    inputElement.addEventListener('change', (e) => {\n",
              "      resolve(e.target.files);\n",
              "    });\n",
              "  });\n",
              "\n",
              "  const cancel = document.createElement('button');\n",
              "  inputElement.parentElement.appendChild(cancel);\n",
              "  cancel.textContent = 'Cancel upload';\n",
              "  const cancelPromise = new Promise((resolve) => {\n",
              "    cancel.onclick = () => {\n",
              "      resolve(null);\n",
              "    };\n",
              "  });\n",
              "\n",
              "  // Wait for the user to pick the files.\n",
              "  const files = yield {\n",
              "    promise: Promise.race([pickedPromise, cancelPromise]),\n",
              "    response: {\n",
              "      action: 'starting',\n",
              "    }\n",
              "  };\n",
              "\n",
              "  cancel.remove();\n",
              "\n",
              "  // Disable the input element since further picks are not allowed.\n",
              "  inputElement.disabled = true;\n",
              "\n",
              "  if (!files) {\n",
              "    return {\n",
              "      response: {\n",
              "        action: 'complete',\n",
              "      }\n",
              "    };\n",
              "  }\n",
              "\n",
              "  for (const file of files) {\n",
              "    const li = document.createElement('li');\n",
              "    li.append(span(file.name, {fontWeight: 'bold'}));\n",
              "    li.append(span(\n",
              "        `(${file.type || 'n/a'}) - ${file.size} bytes, ` +\n",
              "        `last modified: ${\n",
              "            file.lastModifiedDate ? file.lastModifiedDate.toLocaleDateString() :\n",
              "                                    'n/a'} - `));\n",
              "    const percent = span('0% done');\n",
              "    li.appendChild(percent);\n",
              "\n",
              "    outputElement.appendChild(li);\n",
              "\n",
              "    const fileDataPromise = new Promise((resolve) => {\n",
              "      const reader = new FileReader();\n",
              "      reader.onload = (e) => {\n",
              "        resolve(e.target.result);\n",
              "      };\n",
              "      reader.readAsArrayBuffer(file);\n",
              "    });\n",
              "    // Wait for the data to be ready.\n",
              "    let fileData = yield {\n",
              "      promise: fileDataPromise,\n",
              "      response: {\n",
              "        action: 'continue',\n",
              "      }\n",
              "    };\n",
              "\n",
              "    // Use a chunked sending to avoid message size limits. See b/62115660.\n",
              "    let position = 0;\n",
              "    do {\n",
              "      const length = Math.min(fileData.byteLength - position, MAX_PAYLOAD_SIZE);\n",
              "      const chunk = new Uint8Array(fileData, position, length);\n",
              "      position += length;\n",
              "\n",
              "      const base64 = btoa(String.fromCharCode.apply(null, chunk));\n",
              "      yield {\n",
              "        response: {\n",
              "          action: 'append',\n",
              "          file: file.name,\n",
              "          data: base64,\n",
              "        },\n",
              "      };\n",
              "\n",
              "      let percentDone = fileData.byteLength === 0 ?\n",
              "          100 :\n",
              "          Math.round((position / fileData.byteLength) * 100);\n",
              "      percent.textContent = `${percentDone}% done`;\n",
              "\n",
              "    } while (position < fileData.byteLength);\n",
              "  }\n",
              "\n",
              "  // All done.\n",
              "  yield {\n",
              "    response: {\n",
              "      action: 'complete',\n",
              "    }\n",
              "  };\n",
              "}\n",
              "\n",
              "scope.google = scope.google || {};\n",
              "scope.google.colab = scope.google.colab || {};\n",
              "scope.google.colab._files = {\n",
              "  _uploadFiles,\n",
              "  _uploadFilesContinue,\n",
              "};\n",
              "})(self);\n",
              "</script> "
            ]
          },
          "metadata": {}
        },
        {
          "output_type": "stream",
          "name": "stdout",
          "text": [
            "Saving sample.txt.txt to sample.txt.txt\n"
          ]
        }
      ]
    },
    {
      "cell_type": "code",
      "source": [
        "encrypt_file(\"sample.txt.txt\")"
      ],
      "metadata": {
        "colab": {
          "base_uri": "https://localhost:8080/"
        },
        "id": "kpC5ggQVquPa",
        "outputId": "7c1ed40a-33a5-416a-a9cb-97f341a9090f"
      },
      "execution_count": 9,
      "outputs": [
        {
          "output_type": "stream",
          "name": "stdout",
          "text": [
            "File encrypted successfully!\n"
          ]
        }
      ]
    },
    {
      "cell_type": "code",
      "source": [
        "decrypt_file(\"encrypted_sample.txt.txt\")"
      ],
      "metadata": {
        "colab": {
          "base_uri": "https://localhost:8080/"
        },
        "id": "Mwj1uNf6q9Vc",
        "outputId": "dc768df9-71c1-4e1a-fe6d-ac6a9f399a9e"
      },
      "execution_count": 11,
      "outputs": [
        {
          "output_type": "stream",
          "name": "stdout",
          "text": [
            "File decrypted successfully!\n"
          ]
        }
      ]
    },
    {
      "cell_type": "code",
      "source": [
        "with open(\"decrypted_sample.txt.txt\", \"r\") as file:\n",
        "    print(file.read())"
      ],
      "metadata": {
        "colab": {
          "base_uri": "https://localhost:8080/"
        },
        "id": "7j_TMC_UrL5r",
        "outputId": "6d53d6f1-57e2-47ef-a573-2fcde4319182"
      },
      "execution_count": 13,
      "outputs": [
        {
          "output_type": "stream",
          "name": "stdout",
          "text": [
            "This is a secret message.\n",
            "\n"
          ]
        }
      ]
    },
    {
      "cell_type": "code",
      "source": [
        "with open(\"requirements.txt\", \"w\") as f:\n",
        "    f.write(\"streamlit\\ncryptography\")\n"
      ],
      "metadata": {
        "id": "1JTEpikisNpJ"
      },
      "execution_count": 14,
      "outputs": []
    },
    {
      "cell_type": "code",
      "source": [
        "%%writefile streamlit_app.py\n",
        "import streamlit as st\n",
        "from cryptography.fernet import Fernet\n",
        "\n",
        "# Function to generate and save a key\n",
        "def write_key():\n",
        "    key = Fernet.generate_key()\n",
        "    with open(\"secret.key\", \"wb\") as key_file:\n",
        "        key_file.write(key)\n",
        "\n",
        "# Function to load the key\n",
        "def load_key():\n",
        "    return open(\"secret.key\", \"rb\").read()\n",
        "\n",
        "# Encrypt a file\n",
        "def encrypt_file(file):\n",
        "    key = load_key()\n",
        "    f = Fernet(key)\n",
        "    data = file.read()\n",
        "    encrypted = f.encrypt(data)\n",
        "    return encrypted\n",
        "\n",
        "# Decrypt a file\n",
        "def decrypt_file(file):\n",
        "    key = load_key()\n",
        "    f = Fernet(key)\n",
        "    encrypted_data = file.read()\n",
        "    decrypted = f.decrypt(encrypted_data)\n",
        "    return decrypted\n",
        "\n",
        "# Streamlit UI\n",
        "st.title(\"🔐 File Encryption and Decryption App\")\n",
        "\n",
        "option = st.selectbox(\"Choose an option:\", [\"Encrypt a File\", \"Decrypt a File\"])\n",
        "\n",
        "if option == \"Encrypt a File\":\n",
        "    uploaded_file = st.file_uploader(\"Upload a file to encrypt\", type=None)\n",
        "    if uploaded_file:\n",
        "        if st.button(\"Encrypt\"):\n",
        "            write_key()  # create a new key each time for simplicity\n",
        "            encrypted_data = encrypt_file(uploaded_file)\n",
        "            st.success(\"File encrypted successfully!\")\n",
        "            st.download_button(\"Download Encrypted File\", encrypted_data, file_name=\"encrypted_file\")\n",
        "\n",
        "elif option == \"Decrypt a File\":\n",
        "    uploaded_file = st.file_uploader(\"Upload an encrypted file\", type=None)\n",
        "    key_file = st.file_uploader(\"Upload the corresponding secret.key\", type=[\"key\"])\n",
        "    if uploaded_file and key_file:\n",
        "        # Save uploaded key\n",
        "        with open(\"secret.key\", \"wb\") as f:\n",
        "            f.write(key_file.read())\n",
        "        if st.button(\"Decrypt\"):\n",
        "            decrypted_data = decrypt_file(uploaded_file)\n",
        "            st.success(\"File decrypted successfully!\")\n",
        "            st.download_button(\"Download Decrypted File\", decrypted_data, file_name=\"decrypted_file.txt\")\n"
      ],
      "metadata": {
        "colab": {
          "base_uri": "https://localhost:8080/"
        },
        "id": "o10s07SSsOhQ",
        "outputId": "fef50fad-06f0-4411-c8a1-2d2d5c0a4203"
      },
      "execution_count": 15,
      "outputs": [
        {
          "output_type": "stream",
          "name": "stdout",
          "text": [
            "Writing streamlit_app.py\n"
          ]
        }
      ]
    },
    {
      "cell_type": "code",
      "source": [],
      "metadata": {
        "id": "tOlTDQJRsQ4-"
      },
      "execution_count": null,
      "outputs": []
    }
  ],
  "metadata": {
    "kernelspec": {
      "display_name": "Python 3",
      "language": "python",
      "name": "python3"
    },
    "language_info": {
      "name": "python",
      "version": "3.9"
    },
    "colab": {
      "provenance": []
    }
  },
  "nbformat": 4,
  "nbformat_minor": 0
}